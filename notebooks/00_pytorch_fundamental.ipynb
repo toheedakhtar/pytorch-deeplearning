{
  "cells": [
    {
      "cell_type": "code",
      "execution_count": null,
      "metadata": {
        "id": "6HGV0h0_ZeSI",
        "outputId": "c610e88f-fb29-41a0-9cb9-aa5f2b6e8a84",
        "colab": {
          "base_uri": "https://localhost:8080/"
        }
      },
      "outputs": [
        {
          "output_type": "stream",
          "name": "stdout",
          "text": [
            "Pytorch\n"
          ]
        }
      ],
      "source": [
        "print('Pytorch')"
      ]
    },
    {
      "cell_type": "code",
      "execution_count": null,
      "metadata": {
        "colab": {
          "base_uri": "https://localhost:8080/"
        },
        "id": "e4n3uA4LZeSJ",
        "outputId": "11a086f9-f3bd-4f66-ba22-e67422521c2a"
      },
      "outputs": [
        {
          "output_type": "stream",
          "name": "stdout",
          "text": [
            "/bin/bash: line 1: nvidia-smi: command not found\n"
          ]
        }
      ],
      "source": [
        "!nvidia-smi"
      ]
    },
    {
      "cell_type": "code",
      "source": [
        "import torch\n",
        "import pandas as pd\n",
        "import numpy as np\n",
        "import matplotlib.pyplot as plt\n",
        "print(torch.__version__)\n",
        "print(pd.__version__)\n",
        "print(np.__version__)"
      ],
      "metadata": {
        "colab": {
          "base_uri": "https://localhost:8080/"
        },
        "id": "4U7cum-caOC2",
        "outputId": "8f52b28d-2942-4d72-8ff8-fe8bbca72c60"
      },
      "execution_count": 1,
      "outputs": [
        {
          "output_type": "stream",
          "name": "stdout",
          "text": [
            "2.4.1+cu121\n",
            "2.1.4\n",
            "1.26.4\n"
          ]
        }
      ]
    },
    {
      "cell_type": "markdown",
      "source": [
        "Introduction to tensors\n"
      ],
      "metadata": {
        "id": "l8hxrDcsbzJi"
      }
    },
    {
      "cell_type": "markdown",
      "source": [
        "creating tensors"
      ],
      "metadata": {
        "id": "HVEeMafOb2Jr"
      }
    },
    {
      "cell_type": "code",
      "source": [
        "# scalar\n",
        "scalar = torch.tensor(7)\n",
        "scalar"
      ],
      "metadata": {
        "id": "qTfgF_1tbtGe",
        "outputId": "378a77ce-1dcd-4cb7-dda2-17479ea9c47e",
        "colab": {
          "base_uri": "https://localhost:8080/"
        }
      },
      "execution_count": null,
      "outputs": [
        {
          "output_type": "execute_result",
          "data": {
            "text/plain": [
              "tensor(7)"
            ]
          },
          "metadata": {},
          "execution_count": 4
        }
      ]
    },
    {
      "cell_type": "code",
      "source": [
        "scalar.ndim # has no dimensions"
      ],
      "metadata": {
        "id": "54cTxP03btq0",
        "outputId": "b63af295-07e3-4a8c-88f1-dc3556000501",
        "colab": {
          "base_uri": "https://localhost:8080/"
        }
      },
      "execution_count": null,
      "outputs": [
        {
          "output_type": "execute_result",
          "data": {
            "text/plain": [
              "0"
            ]
          },
          "metadata": {},
          "execution_count": 5
        }
      ]
    },
    {
      "cell_type": "code",
      "source": [
        "scalar.item() # returns tensor as python int"
      ],
      "metadata": {
        "id": "I83ZKHbrcuf8",
        "outputId": "cfa45ceb-5521-4446-96c8-6774950f0a7e",
        "colab": {
          "base_uri": "https://localhost:8080/"
        }
      },
      "execution_count": null,
      "outputs": [
        {
          "output_type": "execute_result",
          "data": {
            "text/plain": [
              "7"
            ]
          },
          "metadata": {},
          "execution_count": 6
        }
      ]
    },
    {
      "cell_type": "code",
      "source": [
        "# vector -> magnitude and direction\n",
        "vector = torch.tensor([7,7])\n",
        "vector"
      ],
      "metadata": {
        "id": "tM1TQyQ4czNW",
        "outputId": "db61a695-2052-4279-9d2e-5bdd70c35e2d",
        "colab": {
          "base_uri": "https://localhost:8080/"
        }
      },
      "execution_count": null,
      "outputs": [
        {
          "output_type": "execute_result",
          "data": {
            "text/plain": [
              "tensor([7, 7])"
            ]
          },
          "metadata": {},
          "execution_count": 7
        }
      ]
    },
    {
      "cell_type": "code",
      "source": [
        "vector.ndim"
      ],
      "metadata": {
        "id": "j92KgYkbc8bu",
        "outputId": "6d5f0311-2b3a-47dd-a294-e89bdb2ac112",
        "colab": {
          "base_uri": "https://localhost:8080/"
        }
      },
      "execution_count": null,
      "outputs": [
        {
          "output_type": "execute_result",
          "data": {
            "text/plain": [
              "1"
            ]
          },
          "metadata": {},
          "execution_count": 8
        }
      ]
    },
    {
      "cell_type": "code",
      "source": [
        "vector.shape"
      ],
      "metadata": {
        "id": "5yFcuILpdCrv",
        "outputId": "2a10e0c9-cff8-4fe0-df45-7190eb148011",
        "colab": {
          "base_uri": "https://localhost:8080/"
        }
      },
      "execution_count": null,
      "outputs": [
        {
          "output_type": "execute_result",
          "data": {
            "text/plain": [
              "torch.Size([2])"
            ]
          },
          "metadata": {},
          "execution_count": 9
        }
      ]
    },
    {
      "cell_type": "code",
      "source": [
        "# MATRIX\n",
        "MATRIX = torch.tensor([[7,8], [9,10]])\n",
        "MATRIX"
      ],
      "metadata": {
        "id": "E2uGv5xqdO0Z",
        "outputId": "20c30108-53fc-4af8-8165-e5a2cf7fee14",
        "colab": {
          "base_uri": "https://localhost:8080/"
        }
      },
      "execution_count": null,
      "outputs": [
        {
          "output_type": "execute_result",
          "data": {
            "text/plain": [
              "tensor([[ 7,  8],\n",
              "        [ 9, 10]])"
            ]
          },
          "metadata": {},
          "execution_count": 10
        }
      ]
    },
    {
      "cell_type": "code",
      "source": [
        "MATRIX.ndim"
      ],
      "metadata": {
        "id": "Wkh8ViVMdbda",
        "outputId": "0c541e32-e07f-423c-c109-4805320206cc",
        "colab": {
          "base_uri": "https://localhost:8080/"
        }
      },
      "execution_count": null,
      "outputs": [
        {
          "output_type": "execute_result",
          "data": {
            "text/plain": [
              "2"
            ]
          },
          "metadata": {},
          "execution_count": 11
        }
      ]
    },
    {
      "cell_type": "code",
      "source": [
        "MATRIX[0]"
      ],
      "metadata": {
        "id": "KYVEC9ixjgNL",
        "outputId": "51c25d09-a644-4b14-9fd0-c2af0b2140aa",
        "colab": {
          "base_uri": "https://localhost:8080/"
        }
      },
      "execution_count": null,
      "outputs": [
        {
          "output_type": "execute_result",
          "data": {
            "text/plain": [
              "tensor([7, 8])"
            ]
          },
          "metadata": {},
          "execution_count": 12
        }
      ]
    },
    {
      "cell_type": "code",
      "source": [
        "MATRIX.shape"
      ],
      "metadata": {
        "id": "Bbgux20bdhRy",
        "outputId": "d1180278-0473-488b-cd80-bf409cd5c941",
        "colab": {
          "base_uri": "https://localhost:8080/"
        }
      },
      "execution_count": null,
      "outputs": [
        {
          "output_type": "execute_result",
          "data": {
            "text/plain": [
              "torch.Size([2, 2])"
            ]
          },
          "metadata": {},
          "execution_count": 13
        }
      ]
    },
    {
      "cell_type": "code",
      "source": [
        "# TENSOR\n",
        "TENSOR = torch.tensor([[[1,2,3], [4,5,6], [7,8,9]]])\n",
        "TENSOR\n"
      ],
      "metadata": {
        "id": "bKhKAoRkjmjk",
        "outputId": "5a9f67eb-17b8-4850-a931-293b780f064e",
        "colab": {
          "base_uri": "https://localhost:8080/"
        }
      },
      "execution_count": null,
      "outputs": [
        {
          "output_type": "execute_result",
          "data": {
            "text/plain": [
              "tensor([[[1, 2, 3],\n",
              "         [4, 5, 6],\n",
              "         [7, 8, 9]]])"
            ]
          },
          "metadata": {},
          "execution_count": 14
        }
      ]
    },
    {
      "cell_type": "code",
      "source": [
        "TENSOR.ndim"
      ],
      "metadata": {
        "id": "BmxTBgwHj6BP",
        "outputId": "69e0e446-6e2c-4601-b5a5-489d378b1125",
        "colab": {
          "base_uri": "https://localhost:8080/"
        }
      },
      "execution_count": null,
      "outputs": [
        {
          "output_type": "execute_result",
          "data": {
            "text/plain": [
              "3"
            ]
          },
          "metadata": {},
          "execution_count": 15
        }
      ]
    },
    {
      "cell_type": "code",
      "source": [
        "TENSOR.shape"
      ],
      "metadata": {
        "id": "FmxY8aMJj8ox",
        "outputId": "b9258939-244b-4839-910f-afd1af853bd8",
        "colab": {
          "base_uri": "https://localhost:8080/"
        }
      },
      "execution_count": null,
      "outputs": [
        {
          "output_type": "execute_result",
          "data": {
            "text/plain": [
              "torch.Size([1, 3, 3])"
            ]
          },
          "metadata": {},
          "execution_count": 16
        }
      ]
    },
    {
      "cell_type": "code",
      "source": [
        "TENSOR[0]"
      ],
      "metadata": {
        "id": "X7FCy9GwkPWJ",
        "outputId": "63701800-909d-43bc-a453-7000672ccda8",
        "colab": {
          "base_uri": "https://localhost:8080/"
        }
      },
      "execution_count": null,
      "outputs": [
        {
          "output_type": "execute_result",
          "data": {
            "text/plain": [
              "tensor([[1, 2, 3],\n",
              "        [4, 5, 6],\n",
              "        [7, 8, 9]])"
            ]
          },
          "metadata": {},
          "execution_count": 17
        }
      ]
    },
    {
      "cell_type": "code",
      "source": [
        "TENSOR[0][0][2]"
      ],
      "metadata": {
        "id": "FhTa8PpnkRWP",
        "outputId": "7ff49540-a07e-408c-a6ca-60fcad4a8a97",
        "colab": {
          "base_uri": "https://localhost:8080/"
        }
      },
      "execution_count": null,
      "outputs": [
        {
          "output_type": "execute_result",
          "data": {
            "text/plain": [
              "tensor(3)"
            ]
          },
          "metadata": {},
          "execution_count": 18
        }
      ]
    },
    {
      "cell_type": "code",
      "source": [
        "# Radnom tensors\n",
        "# why random tensors :\n",
        "# beacause the way neural networks learn is that they start with tensors full of random numbers and then\n",
        "# adjust those random numbers to better represent the data.\n",
        "\n",
        "# start with random num -> look at data -> update random numbers -> look at data -> update random numbers.\n"
      ],
      "metadata": {
        "id": "Y3_SHXFIsPF7"
      },
      "execution_count": null,
      "outputs": []
    },
    {
      "cell_type": "code",
      "source": [
        "# creating a random tensor of size (3,4)\n",
        "random_tensor = torch.rand(3,4)\n",
        "random_tensor"
      ],
      "metadata": {
        "id": "U0mQTe2is09v",
        "outputId": "f7f575d1-75e3-424c-9c92-c42dc24be5c9",
        "colab": {
          "base_uri": "https://localhost:8080/"
        }
      },
      "execution_count": null,
      "outputs": [
        {
          "output_type": "execute_result",
          "data": {
            "text/plain": [
              "tensor([[0.7999, 0.1424, 0.9289, 0.0416],\n",
              "        [0.7323, 0.1045, 0.0084, 0.1675],\n",
              "        [0.4294, 0.1580, 0.3261, 0.9408]])"
            ]
          },
          "metadata": {},
          "execution_count": 20
        }
      ]
    },
    {
      "cell_type": "code",
      "source": [
        "random_tensor.ndim"
      ],
      "metadata": {
        "id": "hQCeG7swvD5m",
        "outputId": "f348d577-a842-42c0-ac09-11f0b1e28f0a",
        "colab": {
          "base_uri": "https://localhost:8080/"
        }
      },
      "execution_count": null,
      "outputs": [
        {
          "output_type": "execute_result",
          "data": {
            "text/plain": [
              "2"
            ]
          },
          "metadata": {},
          "execution_count": 21
        }
      ]
    },
    {
      "cell_type": "code",
      "source": [
        "random_tensor.shape"
      ],
      "metadata": {
        "id": "x-T_2mx2vE7M",
        "outputId": "cea94895-8914-4793-bfc6-e8178f70232d",
        "colab": {
          "base_uri": "https://localhost:8080/"
        }
      },
      "execution_count": null,
      "outputs": [
        {
          "output_type": "execute_result",
          "data": {
            "text/plain": [
              "torch.Size([3, 4])"
            ]
          },
          "metadata": {},
          "execution_count": 22
        }
      ]
    },
    {
      "cell_type": "code",
      "source": [
        "# create a random tensor with similiar shape to an image tensor\n",
        "\n",
        "random_image_size_tensor = torch.rand(size = (3, 224, 224)) # height, width ,color channels (R, G, B)\n",
        "random_image_size_tensor.shape, random_image_size_tensor.ndim"
      ],
      "metadata": {
        "id": "Wtp1yobdvYVR",
        "outputId": "f8b540a8-d279-4312-ff6b-223656080530",
        "colab": {
          "base_uri": "https://localhost:8080/"
        }
      },
      "execution_count": null,
      "outputs": [
        {
          "output_type": "execute_result",
          "data": {
            "text/plain": [
              "(torch.Size([3, 224, 224]), 3)"
            ]
          },
          "metadata": {},
          "execution_count": 23
        }
      ]
    },
    {
      "cell_type": "markdown",
      "source": [
        "ZEROS AND ONES"
      ],
      "metadata": {
        "id": "ejQF2eiawRzs"
      }
    },
    {
      "cell_type": "code",
      "source": [
        "# create a tensor of all zeros\n",
        "zeros = torch.zeros(size=(3,4))\n",
        "zeros"
      ],
      "metadata": {
        "id": "QT_vTNw8wPVP",
        "outputId": "f67d0b5c-3ce1-4664-986e-676761e5c898",
        "colab": {
          "base_uri": "https://localhost:8080/"
        }
      },
      "execution_count": null,
      "outputs": [
        {
          "output_type": "execute_result",
          "data": {
            "text/plain": [
              "tensor([[0., 0., 0., 0.],\n",
              "        [0., 0., 0., 0.],\n",
              "        [0., 0., 0., 0.]])"
            ]
          },
          "metadata": {},
          "execution_count": 24
        }
      ]
    },
    {
      "cell_type": "code",
      "source": [
        "zeros*random_tensor"
      ],
      "metadata": {
        "id": "FEVuhB-wwPSd",
        "outputId": "bd20843f-5fcf-4406-b71c-7cd80463edc9",
        "colab": {
          "base_uri": "https://localhost:8080/"
        }
      },
      "execution_count": null,
      "outputs": [
        {
          "output_type": "execute_result",
          "data": {
            "text/plain": [
              "tensor([[0., 0., 0., 0.],\n",
              "        [0., 0., 0., 0.],\n",
              "        [0., 0., 0., 0.]])"
            ]
          },
          "metadata": {},
          "execution_count": 25
        }
      ]
    },
    {
      "cell_type": "code",
      "source": [
        "# create a tensor of all ones\n",
        "ones = torch.ones(size=(3,4))\n",
        "onesb"
      ],
      "metadata": {
        "id": "Zo5QrfNXwO9I",
        "outputId": "8ceb7e7b-73e9-4fc6-c58f-4cf0aab29a07",
        "colab": {
          "base_uri": "https://localhost:8080/",
          "height": 180
        }
      },
      "execution_count": null,
      "outputs": [
        {
          "output_type": "error",
          "ename": "NameError",
          "evalue": "name 'onesb' is not defined",
          "traceback": [
            "\u001b[0;31m---------------------------------------------------------------------------\u001b[0m",
            "\u001b[0;31mNameError\u001b[0m                                 Traceback (most recent call last)",
            "\u001b[0;32m<ipython-input-26-a2469640e17e>\u001b[0m in \u001b[0;36m<cell line: 3>\u001b[0;34m()\u001b[0m\n\u001b[1;32m      1\u001b[0m \u001b[0;31m# create a tensor of all ones\u001b[0m\u001b[0;34m\u001b[0m\u001b[0;34m\u001b[0m\u001b[0m\n\u001b[1;32m      2\u001b[0m \u001b[0mones\u001b[0m \u001b[0;34m=\u001b[0m \u001b[0mtorch\u001b[0m\u001b[0;34m.\u001b[0m\u001b[0mones\u001b[0m\u001b[0;34m(\u001b[0m\u001b[0msize\u001b[0m\u001b[0;34m=\u001b[0m\u001b[0;34m(\u001b[0m\u001b[0;36m3\u001b[0m\u001b[0;34m,\u001b[0m\u001b[0;36m4\u001b[0m\u001b[0;34m)\u001b[0m\u001b[0;34m)\u001b[0m\u001b[0;34m\u001b[0m\u001b[0;34m\u001b[0m\u001b[0m\n\u001b[0;32m----> 3\u001b[0;31m \u001b[0monesb\u001b[0m\u001b[0;34m\u001b[0m\u001b[0;34m\u001b[0m\u001b[0m\n\u001b[0m",
            "\u001b[0;31mNameError\u001b[0m: name 'onesb' is not defined"
          ]
        }
      ]
    },
    {
      "cell_type": "code",
      "source": [
        "ones.dtype"
      ],
      "metadata": {
        "id": "OtgqPbu5ws8Z"
      },
      "execution_count": null,
      "outputs": []
    },
    {
      "cell_type": "code",
      "source": [
        "random_tensor.dtype"
      ],
      "metadata": {
        "id": "ta08ZpeqwutO"
      },
      "execution_count": null,
      "outputs": []
    },
    {
      "cell_type": "markdown",
      "source": [
        "creating range of tensors and tensorlike"
      ],
      "metadata": {
        "id": "-DZXMYZQw5Oz"
      }
    },
    {
      "cell_type": "code",
      "source": [
        "# torch.range() is deprecated using torch.arange()\n",
        "one_to_ten = torch.arange(start=1, end=11, step = 1)\n",
        "one_to_ten\n"
      ],
      "metadata": {
        "id": "8DIHHuSDw16L"
      },
      "execution_count": null,
      "outputs": []
    },
    {
      "cell_type": "code",
      "source": [
        "# creating tensor like\n",
        "ten_zeros = torch.zeros_like(input=one_to_ten)\n",
        "ten_zeros"
      ],
      "metadata": {
        "id": "bFhd4uh5xrWw"
      },
      "execution_count": null,
      "outputs": []
    },
    {
      "cell_type": "markdown",
      "source": [
        "Tensor Datatypes"
      ],
      "metadata": {
        "id": "Dy3yzlu9yNPq"
      }
    },
    {
      "cell_type": "code",
      "source": [
        "# flaot32\n",
        "float32_tensor = torch.tensor([3., 6., 9.],\n",
        "                              dtype=None,  # what datatype tensor (f18, f32)\n",
        "                              device=\"cpu\", #\n",
        "                              requires_grad = False)\n",
        "float32_tensor"
      ],
      "metadata": {
        "id": "U5SLYKhpyRFG",
        "outputId": "e6704e30-6a81-40f8-b356-b5ab74581088",
        "colab": {
          "base_uri": "https://localhost:8080/"
        }
      },
      "execution_count": null,
      "outputs": [
        {
          "output_type": "execute_result",
          "data": {
            "text/plain": [
              "tensor([3., 6., 9.])"
            ]
          },
          "metadata": {},
          "execution_count": 30
        }
      ]
    },
    {
      "cell_type": "code",
      "source": [
        "float32_tensor.dtype"
      ],
      "metadata": {
        "id": "mzqc7OnVyRCO",
        "outputId": "6020f375-7331-4f94-b9ec-81df48158bff",
        "colab": {
          "base_uri": "https://localhost:8080/"
        }
      },
      "execution_count": null,
      "outputs": [
        {
          "output_type": "execute_result",
          "data": {
            "text/plain": [
              "torch.float32"
            ]
          },
          "metadata": {},
          "execution_count": 31
        }
      ]
    },
    {
      "cell_type": "code",
      "source": [
        "float16_tensor = float32_tensor.type(torch.float16)\n",
        "float16_tensor"
      ],
      "metadata": {
        "id": "Gz3WDI4KyRAL",
        "outputId": "a02a6e0b-c2b9-4cc5-9840-5090fd30f0a6",
        "colab": {
          "base_uri": "https://localhost:8080/"
        }
      },
      "execution_count": null,
      "outputs": [
        {
          "output_type": "execute_result",
          "data": {
            "text/plain": [
              "tensor([3., 6., 9.], dtype=torch.float16)"
            ]
          },
          "metadata": {},
          "execution_count": 32
        }
      ]
    },
    {
      "cell_type": "code",
      "source": [
        "int_32_tensor = torch.tensor([3,6,9], dtype=torch.long)\n",
        "int_32_tensor"
      ],
      "metadata": {
        "id": "fXtUjoGNHZqR",
        "outputId": "d4a3216b-9593-46a4-ec95-336bc31a3d65",
        "colab": {
          "base_uri": "https://localhost:8080/"
        }
      },
      "execution_count": null,
      "outputs": [
        {
          "output_type": "execute_result",
          "data": {
            "text/plain": [
              "tensor([3, 6, 9])"
            ]
          },
          "metadata": {},
          "execution_count": 34
        }
      ]
    },
    {
      "cell_type": "code",
      "source": [
        "float32_tensor * int_32_tensor"
      ],
      "metadata": {
        "id": "59X87iTtHZ9i",
        "outputId": "a216b2f6-786c-4c2f-a4b3-4f73d3a08157",
        "colab": {
          "base_uri": "https://localhost:8080/"
        }
      },
      "execution_count": null,
      "outputs": [
        {
          "output_type": "execute_result",
          "data": {
            "text/plain": [
              "tensor([ 9., 36., 81.])"
            ]
          },
          "metadata": {},
          "execution_count": 35
        }
      ]
    },
    {
      "cell_type": "markdown",
      "source": [
        "Getting information from tensor"
      ],
      "metadata": {
        "id": "yhQOE_dwH_wG"
      }
    },
    {
      "cell_type": "code",
      "source": [
        "some_tensor = torch.rand(3,4)\n",
        "some_tensor"
      ],
      "metadata": {
        "id": "AybfFuJKIAEw",
        "outputId": "c79088b4-a2b5-46a5-b6d4-ec4479bf1822",
        "colab": {
          "base_uri": "https://localhost:8080/"
        }
      },
      "execution_count": null,
      "outputs": [
        {
          "output_type": "execute_result",
          "data": {
            "text/plain": [
              "tensor([[0.3732, 0.3200, 0.4766, 0.3400],\n",
              "        [0.1122, 0.1419, 0.0112, 0.8708],\n",
              "        [0.1310, 0.1304, 0.9836, 0.5558]])"
            ]
          },
          "metadata": {},
          "execution_count": 36
        }
      ]
    },
    {
      "cell_type": "code",
      "source": [
        "print(some_tensor)\n",
        "print(f\"DataType of tensor : {some_tensor.dtype}\\n\")\n",
        "print(f\"Shape of tensor : {some_tensor.shape}\\n\")\n",
        "print(f\"Size of tensor : {some_tensor.size()}\\n\")\n",
        "print(f\"Device of tensor : {some_tensor.device}\\n\")"
      ],
      "metadata": {
        "id": "ooWauAZjIBku"
      },
      "execution_count": null,
      "outputs": []
    },
    {
      "cell_type": "markdown",
      "source": [
        "Manipulating Tensors (Tensor Operation)  \n",
        "It includes  \n",
        "- Addition  \n",
        "- Subtraction  \n",
        "- Multiplication (element-wise)  \n",
        "- Division  \n",
        "- Matrix Multiplication"
      ],
      "metadata": {
        "id": "VXOxKMcfJtX5"
      }
    },
    {
      "cell_type": "code",
      "source": [
        "tensor = torch.tensor([1,2,3])\n",
        "tensor + 10"
      ],
      "metadata": {
        "id": "bTSiBoD0JxDt",
        "outputId": "bf5d1334-0c9c-4eb5-c818-415da56a9e69",
        "colab": {
          "base_uri": "https://localhost:8080/"
        }
      },
      "execution_count": null,
      "outputs": [
        {
          "output_type": "execute_result",
          "data": {
            "text/plain": [
              "tensor([11, 12, 13])"
            ]
          },
          "metadata": {},
          "execution_count": 45
        }
      ]
    },
    {
      "cell_type": "code",
      "source": [
        "tensor * 10"
      ],
      "metadata": {
        "id": "DNNFcydEKdvW",
        "outputId": "89246ad6-0035-41aa-b629-14a0bbd85579",
        "colab": {
          "base_uri": "https://localhost:8080/"
        }
      },
      "execution_count": null,
      "outputs": [
        {
          "output_type": "execute_result",
          "data": {
            "text/plain": [
              "tensor([10, 20, 30])"
            ]
          },
          "metadata": {},
          "execution_count": 46
        }
      ]
    },
    {
      "cell_type": "code",
      "source": [
        "torch.mul(tensor, 10) # built in pytorch func"
      ],
      "metadata": {
        "id": "23WcvErISg3P",
        "outputId": "50003008-2655-47ea-e95b-1eae7172208c",
        "colab": {
          "base_uri": "https://localhost:8080/"
        }
      },
      "execution_count": null,
      "outputs": [
        {
          "output_type": "execute_result",
          "data": {
            "text/plain": [
              "tensor([10, 20, 30])"
            ]
          },
          "metadata": {},
          "execution_count": 47
        }
      ]
    },
    {
      "cell_type": "code",
      "source": [
        "torch.add(tensor, 10)"
      ],
      "metadata": {
        "id": "WjWDHE03SnKU",
        "outputId": "c77c08f6-d12a-48a1-be32-9dd72bdf2564",
        "colab": {
          "base_uri": "https://localhost:8080/"
        }
      },
      "execution_count": null,
      "outputs": [
        {
          "output_type": "execute_result",
          "data": {
            "text/plain": [
              "tensor([11, 12, 13])"
            ]
          },
          "metadata": {},
          "execution_count": 48
        }
      ]
    },
    {
      "cell_type": "markdown",
      "source": [
        "MATRIX Multiplication\n",
        "\n",
        "two ways to perform multiplication in neural networks and deep learning\n",
        "\n",
        "1. Element wise\n",
        "2. Matrix mulitplication (dot product)  \n",
        "\n",
        "There are two main rules to follow while matrix multiplying :  \n",
        "\n",
        "1. Inner dimensions must match:\n",
        "* `(3,2) @ (3,2)` won't work\n",
        "* `(2,3) @ (3,2)` will work\n",
        "* `(3,2) @ (2,3)` will work  \n",
        "2. The resulting matrix has shape of outer matrix\n",
        "* `(2,3) @ (3,2)` will have shape of `(2,2)`\n"
      ],
      "metadata": {
        "id": "2zefG_zqSx8g"
      }
    },
    {
      "cell_type": "code",
      "source": [
        "# Element wise multiplication\n",
        "print(tensor , \"*\", tensor)\n",
        "print(f\"Equals : {tensor * tensor}\")"
      ],
      "metadata": {
        "id": "fIzgD_LoUHwH",
        "outputId": "9b6cda6d-397d-4b9d-f5ff-2be420013ad3",
        "colab": {
          "base_uri": "https://localhost:8080/"
        }
      },
      "execution_count": null,
      "outputs": [
        {
          "output_type": "stream",
          "name": "stdout",
          "text": [
            "tensor([1, 2, 3]) * tensor([1, 2, 3])\n",
            "Equals : tensor([1, 4, 9])\n"
          ]
        }
      ]
    },
    {
      "cell_type": "code",
      "source": [
        "# Matrix Multiplication\n",
        "torch.matmul(tensor, tensor)"
      ],
      "metadata": {
        "id": "aTpjFpkuUQQW",
        "outputId": "36004eff-9ce9-485a-a988-534f93b131bf",
        "colab": {
          "base_uri": "https://localhost:8080/"
        }
      },
      "execution_count": null,
      "outputs": [
        {
          "output_type": "execute_result",
          "data": {
            "text/plain": [
              "tensor(14)"
            ]
          },
          "metadata": {},
          "execution_count": 50
        }
      ]
    },
    {
      "cell_type": "code",
      "source": [
        "tensor"
      ],
      "metadata": {
        "id": "JJXTAiykUeQf",
        "outputId": "884774fd-58db-4a74-e2ea-b1884d3fd88a",
        "colab": {
          "base_uri": "https://localhost:8080/"
        }
      },
      "execution_count": null,
      "outputs": [
        {
          "output_type": "execute_result",
          "data": {
            "text/plain": [
              "tensor([1, 2, 3])"
            ]
          },
          "metadata": {},
          "execution_count": 52
        }
      ]
    },
    {
      "cell_type": "code",
      "source": [
        "# matrix multiplication by hand\n",
        "1*1 + 2*2 + 3*3"
      ],
      "metadata": {
        "id": "ne_nuUjPUf_b",
        "outputId": "341d11c5-d868-4c21-c1c6-8a5a38c2ca48",
        "colab": {
          "base_uri": "https://localhost:8080/"
        }
      },
      "execution_count": null,
      "outputs": [
        {
          "output_type": "execute_result",
          "data": {
            "text/plain": [
              "14"
            ]
          },
          "metadata": {},
          "execution_count": 53
        }
      ]
    },
    {
      "cell_type": "code",
      "source": [
        "tensor @ tensor"
      ],
      "metadata": {
        "id": "3ouUYcQgU9c7",
        "outputId": "d34f5db6-41a6-4af0-e991-ef8c88e518c5",
        "colab": {
          "base_uri": "https://localhost:8080/"
        }
      },
      "execution_count": null,
      "outputs": [
        {
          "output_type": "execute_result",
          "data": {
            "text/plain": [
              "tensor(14)"
            ]
          },
          "metadata": {},
          "execution_count": 54
        }
      ]
    },
    {
      "cell_type": "markdown",
      "source": [
        "One of them most common errors in deep learnig : shape errors"
      ],
      "metadata": {
        "id": "gcyywEpfXhPX"
      }
    },
    {
      "cell_type": "markdown",
      "source": [
        "Tensor aggregation (min, max, avg...)"
      ],
      "metadata": {
        "id": "1YPLVQZXXl-a"
      }
    },
    {
      "cell_type": "code",
      "source": [
        "x = torch.arange(0, 100, 10)\n",
        "x"
      ],
      "metadata": {
        "id": "3kUYl5XE5Q2L",
        "outputId": "e02dd165-3847-4475-a8cf-a551bc493c46",
        "colab": {
          "base_uri": "https://localhost:8080/"
        }
      },
      "execution_count": 2,
      "outputs": [
        {
          "output_type": "execute_result",
          "data": {
            "text/plain": [
              "tensor([ 0, 10, 20, 30, 40, 50, 60, 70, 80, 90])"
            ]
          },
          "metadata": {},
          "execution_count": 2
        }
      ]
    },
    {
      "cell_type": "code",
      "source": [
        "# min\n",
        "torch.min(x), x.min()"
      ],
      "metadata": {
        "id": "XL0_br0O5VWF",
        "outputId": "3e229642-6396-48e8-fc41-c90eb46652b3",
        "colab": {
          "base_uri": "https://localhost:8080/"
        }
      },
      "execution_count": 3,
      "outputs": [
        {
          "output_type": "execute_result",
          "data": {
            "text/plain": [
              "(tensor(0), tensor(0))"
            ]
          },
          "metadata": {},
          "execution_count": 3
        }
      ]
    },
    {
      "cell_type": "code",
      "source": [
        "torch.max(x), x.max()"
      ],
      "metadata": {
        "id": "azRC5vpm5Yvv",
        "outputId": "9a756549-0d5a-49e6-f118-450384820714",
        "colab": {
          "base_uri": "https://localhost:8080/"
        }
      },
      "execution_count": 4,
      "outputs": [
        {
          "output_type": "execute_result",
          "data": {
            "text/plain": [
              "(tensor(90), tensor(90))"
            ]
          },
          "metadata": {},
          "execution_count": 4
        }
      ]
    },
    {
      "cell_type": "code",
      "source": [
        "torch.mean(x.type(torch.float32)), x.type(torch.float32).mean()"
      ],
      "metadata": {
        "id": "80KB_RRU5fBC",
        "outputId": "40c9d3c8-e42c-4d05-82cb-6cbad5e8c506",
        "colab": {
          "base_uri": "https://localhost:8080/"
        }
      },
      "execution_count": 6,
      "outputs": [
        {
          "output_type": "execute_result",
          "data": {
            "text/plain": [
              "(tensor(45.), tensor(45.))"
            ]
          },
          "metadata": {},
          "execution_count": 6
        }
      ]
    },
    {
      "cell_type": "code",
      "source": [
        "torch.sum(x), x.sum()"
      ],
      "metadata": {
        "id": "_uQ2lFUb55pS",
        "outputId": "13403171-d35c-4325-ec33-6e2673d8bf35",
        "colab": {
          "base_uri": "https://localhost:8080/"
        }
      },
      "execution_count": 8,
      "outputs": [
        {
          "output_type": "execute_result",
          "data": {
            "text/plain": [
              "(tensor(450), tensor(450))"
            ]
          },
          "metadata": {},
          "execution_count": 8
        }
      ]
    },
    {
      "cell_type": "markdown",
      "source": [
        " finding positional min and max"
      ],
      "metadata": {
        "id": "PSDkhqj76bva"
      }
    },
    {
      "cell_type": "code",
      "source": [
        "# find the position in tensor that has minimum value with argmin\n",
        "# returns index where minimum value is\n",
        "x.argmin()"
      ],
      "metadata": {
        "id": "GZJqPXED6A7E",
        "outputId": "bde8e133-1ec3-4a06-f661-50a8990c3276",
        "colab": {
          "base_uri": "https://localhost:8080/"
        }
      },
      "execution_count": 10,
      "outputs": [
        {
          "output_type": "execute_result",
          "data": {
            "text/plain": [
              "tensor(0)"
            ]
          },
          "metadata": {},
          "execution_count": 10
        }
      ]
    },
    {
      "cell_type": "code",
      "source": [
        "x.argmax()"
      ],
      "metadata": {
        "id": "SVQyx9pb6DAa",
        "outputId": "12544f3a-6b1e-428e-f000-9f20bc638558",
        "colab": {
          "base_uri": "https://localhost:8080/"
        }
      },
      "execution_count": 11,
      "outputs": [
        {
          "output_type": "execute_result",
          "data": {
            "text/plain": [
              "tensor(9)"
            ]
          },
          "metadata": {},
          "execution_count": 11
        }
      ]
    },
    {
      "cell_type": "code",
      "source": [],
      "metadata": {
        "id": "lI70KQdh6z3P"
      },
      "execution_count": null,
      "outputs": []
    },
    {
      "cell_type": "markdown",
      "source": [
        "Reshaping , viewing, and stacking tensors  \n",
        "squeezing and unsqueezing  \n",
        "\n",
        "* reshaping - reshapes an input tensor to a defined shape,\n",
        "* View - Return a view of an input tensor of certain shape but keeps the same memory as orginal tensor\n",
        "* Stacking - combine multiple tensors on top of each other (hstack / vstack)\n",
        "* Squeeze - removes all `1` dimensions from a tensors\n",
        "* Unsqueeze - adds a `1` dimension to a target tensor\n",
        "* Permute - Return a view of the input with dimensions permuted (swapped) in a certain way."
      ],
      "metadata": {
        "id": "-3_Kj8qw6C9l"
      }
    },
    {
      "cell_type": "code",
      "source": [
        "import torch"
      ],
      "metadata": {
        "id": "gNfyMZmJ6C38"
      },
      "execution_count": 1,
      "outputs": []
    },
    {
      "cell_type": "code",
      "source": [
        "x = torch.arange(1. , 10.)\n",
        "x, x.shape"
      ],
      "metadata": {
        "id": "EGK5Edb46C1O",
        "outputId": "8bc70759-e157-41e6-957e-4424e4e5ea73",
        "colab": {
          "base_uri": "https://localhost:8080/"
        }
      },
      "execution_count": 16,
      "outputs": [
        {
          "output_type": "execute_result",
          "data": {
            "text/plain": [
              "(tensor([1., 2., 3., 4., 5., 6., 7., 8., 9.]), torch.Size([9]))"
            ]
          },
          "metadata": {},
          "execution_count": 16
        }
      ]
    },
    {
      "cell_type": "code",
      "source": [
        "# adding an extra dimension\n",
        "x_reshaped = x.reshape(1,9)\n",
        "x_reshaped.shape, x_reshaped"
      ],
      "metadata": {
        "id": "zBYuTeMhvt25",
        "outputId": "3e6cbb4f-3a2e-45cf-a7e1-9786d81b20c1",
        "colab": {
          "base_uri": "https://localhost:8080/"
        }
      },
      "execution_count": 18,
      "outputs": [
        {
          "output_type": "execute_result",
          "data": {
            "text/plain": [
              "(torch.Size([1, 9]), tensor([[1., 2., 3., 4., 5., 6., 7., 8., 9.]]))"
            ]
          },
          "metadata": {},
          "execution_count": 18
        }
      ]
    },
    {
      "cell_type": "code",
      "source": [
        "# change the view\n",
        "z = x.view(1,9)\n",
        "z, z.shape"
      ],
      "metadata": {
        "id": "n97Mqu8C6Ct8",
        "outputId": "456447ec-008f-4be5-e12f-42cf406e9710",
        "colab": {
          "base_uri": "https://localhost:8080/"
        }
      },
      "execution_count": 19,
      "outputs": [
        {
          "output_type": "execute_result",
          "data": {
            "text/plain": [
              "(tensor([[1., 2., 3., 4., 5., 6., 7., 8., 9.]]), torch.Size([1, 9]))"
            ]
          },
          "metadata": {},
          "execution_count": 19
        }
      ]
    },
    {
      "cell_type": "code",
      "source": [
        "# changing z changes x becauase the view of tensor shares the same memory as the original input\n",
        "z[:, 0] = 5\n",
        "z, x"
      ],
      "metadata": {
        "id": "GJqm8ggx6CrE",
        "outputId": "56909e87-bba7-46f1-c223-aa2417bbc6b8",
        "colab": {
          "base_uri": "https://localhost:8080/"
        }
      },
      "execution_count": 22,
      "outputs": [
        {
          "output_type": "execute_result",
          "data": {
            "text/plain": [
              "(tensor([[5., 2., 3., 4., 5., 6., 7., 8., 9.]]),\n",
              " tensor([5., 2., 3., 4., 5., 6., 7., 8., 9.]))"
            ]
          },
          "metadata": {},
          "execution_count": 22
        }
      ]
    },
    {
      "cell_type": "code",
      "source": [
        "# stack tensors on top on each other\n",
        "x_stacked = torch.stack([x,x,x,x], dim=1)\n",
        "x_stacked"
      ],
      "metadata": {
        "id": "BCoN8V_cxRgU",
        "outputId": "7304dc70-0a19-4523-932f-b8d99c287377",
        "colab": {
          "base_uri": "https://localhost:8080/"
        }
      },
      "execution_count": 25,
      "outputs": [
        {
          "output_type": "execute_result",
          "data": {
            "text/plain": [
              "tensor([[5., 5., 5., 5.],\n",
              "        [2., 2., 2., 2.],\n",
              "        [3., 3., 3., 3.],\n",
              "        [4., 4., 4., 4.],\n",
              "        [5., 5., 5., 5.],\n",
              "        [6., 6., 6., 6.],\n",
              "        [7., 7., 7., 7.],\n",
              "        [8., 8., 8., 8.],\n",
              "        [9., 9., 9., 9.]])"
            ]
          },
          "metadata": {},
          "execution_count": 25
        }
      ]
    },
    {
      "cell_type": "code",
      "source": [
        "# unsqueeze  - byself\n",
        "x_unsqueezed = torch.unsqueeze(x, 0)\n",
        "x, x.shape, '\\n' , x_unsqueezed  , x_unsqueezed.shape"
      ],
      "metadata": {
        "id": "GZH0X_mO6Co2",
        "outputId": "d277c2e0-e14a-43cb-9ff1-b64f1f242ad9",
        "colab": {
          "base_uri": "https://localhost:8080/"
        }
      },
      "execution_count": 46,
      "outputs": [
        {
          "output_type": "execute_result",
          "data": {
            "text/plain": [
              "(tensor([1., 2., 3., 4., 5., 6., 7., 8., 9.]),\n",
              " torch.Size([9]),\n",
              " '\\n',\n",
              " tensor([[1., 2., 3., 4., 5., 6., 7., 8., 9.]]),\n",
              " torch.Size([1, 9]))"
            ]
          },
          "metadata": {},
          "execution_count": 46
        }
      ]
    },
    {
      "cell_type": "code",
      "source": [
        "# squeeze - by self\n",
        "x_squeezed = torch.squeeze(x, 0)\n",
        "x, x.shape, '\\n' , x_squeezed  , x_squeezed.shape"
      ],
      "metadata": {
        "id": "pG9mylr-zJz2",
        "outputId": "1069ac72-5b7b-482b-8af1-5a3bd9e0dad8",
        "colab": {
          "base_uri": "https://localhost:8080/"
        }
      },
      "execution_count": 48,
      "outputs": [
        {
          "output_type": "execute_result",
          "data": {
            "text/plain": [
              "(tensor([1., 2., 3., 4., 5., 6., 7., 8., 9.]),\n",
              " torch.Size([9]),\n",
              " '\\n',\n",
              " tensor([1., 2., 3., 4., 5., 6., 7., 8., 9.]),\n",
              " torch.Size([9]))"
            ]
          },
          "metadata": {},
          "execution_count": 48
        }
      ]
    },
    {
      "cell_type": "code",
      "source": [
        "# torch.squeeze() - removes all single dimensions from target tensor\n",
        "x = torch.zeros(1,2,1,2,1,2)\n",
        "y = torch.squeeze(x)\n",
        "y.shape, y.size()\n",
        "y = torch.squeeze(x, 0)\n",
        "y.shape\n",
        "y = torch.squeeze(x, 4)\n",
        "y.shape"
      ],
      "metadata": {
        "id": "Md-b490A0L7Q"
      },
      "execution_count": 51,
      "outputs": []
    },
    {
      "cell_type": "code",
      "source": [
        "# squeeze\n",
        "print(x_reshaped.shape)\n",
        "x_reshaped.squeeze().shape"
      ],
      "metadata": {
        "id": "09jFCnR_1FGi",
        "outputId": "52bee61d-8587-418d-f1dc-2f90c0b4f29e",
        "colab": {
          "base_uri": "https://localhost:8080/"
        }
      },
      "execution_count": 62,
      "outputs": [
        {
          "output_type": "stream",
          "name": "stdout",
          "text": [
            "torch.Size([1, 9])\n"
          ]
        },
        {
          "output_type": "execute_result",
          "data": {
            "text/plain": [
              "torch.Size([9])"
            ]
          },
          "metadata": {},
          "execution_count": 62
        }
      ]
    },
    {
      "cell_type": "code",
      "source": [
        "# torch.unsqueeze() - adds a single dim to a target tensor at specific dim\n",
        "print(f'previous target , {x_squeezed}')\n",
        "print(f'previous shape , {x_squeezed.shape}')\n",
        "\n",
        "# adds an extra dimension with unsqueeze\n",
        "x_unsqueezed = x_squeezed.unsqueeze(dim=1)\n",
        "x_unsqueezed.shape, x_unsqueezed\n",
        "\n"
      ],
      "metadata": {
        "id": "nSzyz0J31smQ",
        "outputId": "35120f9b-7d82-4947-9059-18fb4094a0f3",
        "colab": {
          "base_uri": "https://localhost:8080/"
        }
      },
      "execution_count": 67,
      "outputs": [
        {
          "output_type": "stream",
          "name": "stdout",
          "text": [
            "previous target , tensor([1., 2., 3., 4., 5., 6., 7., 8., 9.])\n",
            "previous shape , torch.Size([9])\n"
          ]
        },
        {
          "output_type": "execute_result",
          "data": {
            "text/plain": [
              "(torch.Size([9, 1]),\n",
              " tensor([[1.],\n",
              "         [2.],\n",
              "         [3.],\n",
              "         [4.],\n",
              "         [5.],\n",
              "         [6.],\n",
              "         [7.],\n",
              "         [8.],\n",
              "         [9.]]))"
            ]
          },
          "metadata": {},
          "execution_count": 67
        }
      ]
    },
    {
      "cell_type": "code",
      "source": [
        "# torch.permute() - rearranges the dimensiosns of a target tensor in a specified order\n",
        "# returns a view\n",
        "x_original = torch.rand(size=(224,224, 3)) # (h, w, cChanels)\n",
        "\n",
        "# permute to rearange the axis (dim)\n",
        "x_permuted = x_original.permute(2,0,1)\n",
        "x_original.shape , x_permuted.shape\n"
      ],
      "metadata": {
        "id": "D3RbseL22lYq",
        "outputId": "017ce397-5888-4a3f-f475-9a50325088d7",
        "colab": {
          "base_uri": "https://localhost:8080/"
        }
      },
      "execution_count": 69,
      "outputs": [
        {
          "output_type": "execute_result",
          "data": {
            "text/plain": [
              "(torch.Size([224, 224, 3]), torch.Size([3, 224, 224]))"
            ]
          },
          "metadata": {},
          "execution_count": 69
        }
      ]
    },
    {
      "cell_type": "code",
      "source": [
        "x_original[0,0,0] = 1.22222\n",
        "x_original[0,0,0]"
      ],
      "metadata": {
        "id": "oLUb5e6h3wnG",
        "outputId": "8c73b3ed-d826-4bf6-f163-2101ae2e3dad",
        "colab": {
          "base_uri": "https://localhost:8080/"
        }
      },
      "execution_count": 71,
      "outputs": [
        {
          "output_type": "execute_result",
          "data": {
            "text/plain": [
              "tensor(1.2222)"
            ]
          },
          "metadata": {},
          "execution_count": 71
        }
      ]
    },
    {
      "cell_type": "code",
      "source": [
        "# changed as permute() returns views of orignal tensor and view shares the same memory\n",
        "x_permuted[0,0,0]"
      ],
      "metadata": {
        "id": "ul19nd-_34rn",
        "outputId": "1bf9f747-a03c-44e2-b873-922057bfbf75",
        "colab": {
          "base_uri": "https://localhost:8080/"
        }
      },
      "execution_count": 72,
      "outputs": [
        {
          "output_type": "execute_result",
          "data": {
            "text/plain": [
              "tensor(1.2222)"
            ]
          },
          "metadata": {},
          "execution_count": 72
        }
      ]
    },
    {
      "cell_type": "code",
      "source": [],
      "metadata": {
        "id": "aJaKcM2E4Efd"
      },
      "execution_count": null,
      "outputs": []
    }
  ],
  "metadata": {
    "kernelspec": {
      "display_name": "Python 3",
      "name": "python3"
    },
    "language_info": {
      "codemirror_mode": {
        "name": "ipython",
        "version": 3
      },
      "file_extension": ".py",
      "mimetype": "text/x-python",
      "name": "python",
      "nbconvert_exporter": "python",
      "pygments_lexer": "ipython3",
      "version": "3.10.12"
    },
    "colab": {
      "provenance": []
    }
  },
  "nbformat": 4,
  "nbformat_minor": 0
}